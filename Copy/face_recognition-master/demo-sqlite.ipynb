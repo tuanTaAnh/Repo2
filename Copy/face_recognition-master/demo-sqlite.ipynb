{
 "cells": [
  {
   "cell_type": "markdown",
   "metadata": {},
   "source": [
    "### Load the core face-net based model"
   ]
  },
  {
   "cell_type": "code",
   "execution_count": 1,
   "metadata": {},
   "outputs": [
    {
     "name": "stderr",
     "output_type": "stream",
     "text": [
      "C:\\Python36\\lib\\site-packages\\h5py\\__init__.py:36: FutureWarning: Conversion of the second argument of issubdtype from `float` to `np.floating` is deprecated. In future, it will be treated as `np.float64 == np.dtype(float).type`.\n",
      "  from ._conv import register_converters as _register_converters\n",
      "Using TensorFlow backend.\n"
     ]
    }
   ],
   "source": [
    "from core.face_net import CelebModel"
   ]
  },
  {
   "cell_type": "code",
   "execution_count": 4,
   "metadata": {},
   "outputs": [
    {
     "name": "stderr",
     "output_type": "stream",
     "text": [
      "100%|██████████████████████████████████████████| 75/75 [05:54<00:00,  7.30s/it]\n",
      "100%|██████████████████████████████████████████| 75/75 [00:39<00:00,  2.48it/s]\n"
     ]
    }
   ],
   "source": [
    "celeb_model = CelebModel()"
   ]
  },
  {
   "cell_type": "markdown",
   "metadata": {},
   "source": [
    "### Database setup\n",
    "- install postgres (iff not using the SQLITE)\n",
    "- create a database and change the config.ini accordingly\n",
    "\n",
    "### Bring in the database operations\n",
    "- Required only for the first time iff you are creating the required table"
   ]
  },
  {
   "cell_type": "code",
   "execution_count": 2,
   "metadata": {},
   "outputs": [],
   "source": [
    "from database_client.database import Operations"
   ]
  },
  {
   "cell_type": "code",
   "execution_count": 3,
   "metadata": {},
   "outputs": [
    {
     "name": "stdout",
     "output_type": "stream",
     "text": [
      "2019-03-01 20:56:21,737 INFO sqlalchemy.engine.base.Engine SELECT CAST('test plain returns' AS VARCHAR(60)) AS anon_1\n",
      "2019-03-01 20:56:21,744 INFO sqlalchemy.engine.base.Engine ()\n",
      "2019-03-01 20:56:21,754 INFO sqlalchemy.engine.base.Engine SELECT CAST('test unicode returns' AS VARCHAR(60)) AS anon_1\n",
      "2019-03-01 20:56:21,760 INFO sqlalchemy.engine.base.Engine ()\n",
      "2019-03-01 20:56:21,769 INFO sqlalchemy.engine.base.Engine PRAGMA table_info(\"celeb_recognition_encodings\")\n",
      "2019-03-01 20:56:21,776 INFO sqlalchemy.engine.base.Engine ()\n",
      "2019-03-01 20:56:21,788 INFO sqlalchemy.engine.base.Engine \n",
      "CREATE TABLE celeb_recognition_encodings (\n",
      "\tceleb_id INTEGER NOT NULL, \n",
      "\tname TEXT NOT NULL, \n",
      "\tencodings BLOB NOT NULL, \n",
      "\tPRIMARY KEY (celeb_id), \n",
      "\tCONSTRAINT _celeb_encodings_unique UNIQUE (name, encodings)\n",
      ")\n",
      "\n",
      "\n",
      "2019-03-01 20:56:21,796 INFO sqlalchemy.engine.base.Engine ()\n",
      "2019-03-01 20:56:22,000 INFO sqlalchemy.engine.base.Engine COMMIT\n"
     ]
    }
   ],
   "source": [
    "Operations.create_tables()"
   ]
  },
  {
   "cell_type": "markdown",
   "metadata": {},
   "source": [
    "### CelebModelOperations contains all the methods for the required functionalities.\n",
    "- exposed methods: *recognize_celebs*, *add_new_celeb*"
   ]
  },
  {
   "cell_type": "markdown",
   "metadata": {},
   "source": [
    "#### Let's add few celebs\n",
    "- for this I downloaded celeb images with naming convention celeb_name_i.jpg where \"i\" is just a unique number.\n",
    "- Did this manually, huhh."
   ]
  },
  {
   "cell_type": "code",
   "execution_count": 5,
   "metadata": {},
   "outputs": [],
   "source": [
    "from core.face_net import CelebModelOperations"
   ]
  },
  {
   "cell_type": "code",
   "execution_count": 6,
   "metadata": {},
   "outputs": [],
   "source": [
    "import os"
   ]
  },
  {
   "cell_type": "code",
   "execution_count": 7,
   "metadata": {},
   "outputs": [],
   "source": [
    "def get_celeb_name_from(filename):\n",
    "    name = ' '.join(filename.split('_')[:-1])\n",
    "    return name"
   ]
  },
  {
   "cell_type": "code",
   "execution_count": 8,
   "metadata": {},
   "outputs": [
    {
     "data": {
      "text/plain": [
       "'vijay kumar'"
      ]
     },
     "execution_count": 8,
     "metadata": {},
     "output_type": "execute_result"
    }
   ],
   "source": [
    "get_celeb_name_from('vijay_kumar_1.jpg')"
   ]
  },
  {
   "cell_type": "code",
   "execution_count": 9,
   "metadata": {},
   "outputs": [
    {
     "name": "stdout",
     "output_type": "stream",
     "text": [
      "2019-03-01 21:04:29,176 INFO sqlalchemy.engine.base.Engine BEGIN (implicit)\n",
      "2019-03-01 21:04:29,176 INFO sqlalchemy.engine.base.Engine INSERT INTO celeb_recognition_encodings (name, encodings) VALUES (?, ?)\n",
      "2019-03-01 21:04:29,191 INFO sqlalchemy.engine.base.Engine ('beyonce', <memory at 0x000000E133E42E88>)\n",
      "2019-03-01 21:04:29,214 INFO sqlalchemy.engine.base.Engine COMMIT\n",
      "2019-03-01 21:04:32,812 INFO sqlalchemy.engine.base.Engine BEGIN (implicit)\n",
      "2019-03-01 21:04:32,827 INFO sqlalchemy.engine.base.Engine INSERT INTO celeb_recognition_encodings (name, encodings) VALUES (?, ?)\n",
      "2019-03-01 21:04:32,835 INFO sqlalchemy.engine.base.Engine ('beyonce', <memory at 0x000000E133E42E88>)\n",
      "2019-03-01 21:04:32,848 INFO sqlalchemy.engine.base.Engine COMMIT\n",
      "2019-03-01 21:04:33,629 INFO sqlalchemy.engine.base.Engine BEGIN (implicit)\n",
      "2019-03-01 21:04:33,644 INFO sqlalchemy.engine.base.Engine INSERT INTO celeb_recognition_encodings (name, encodings) VALUES (?, ?)\n",
      "2019-03-01 21:04:33,657 INFO sqlalchemy.engine.base.Engine ('beyonce', <memory at 0x000000E133E42E88>)\n",
      "2019-03-01 21:04:33,669 INFO sqlalchemy.engine.base.Engine COMMIT\n",
      "2019-03-01 21:04:34,176 INFO sqlalchemy.engine.base.Engine BEGIN (implicit)\n",
      "2019-03-01 21:04:34,176 INFO sqlalchemy.engine.base.Engine INSERT INTO celeb_recognition_encodings (name, encodings) VALUES (?, ?)\n",
      "2019-03-01 21:04:34,199 INFO sqlalchemy.engine.base.Engine ('beyonce', <memory at 0x000000E133E42E88>)\n",
      "2019-03-01 21:04:34,209 INFO sqlalchemy.engine.base.Engine COMMIT\n",
      "2019-03-01 21:04:34,730 INFO sqlalchemy.engine.base.Engine BEGIN (implicit)\n",
      "2019-03-01 21:04:34,730 INFO sqlalchemy.engine.base.Engine INSERT INTO celeb_recognition_encodings (name, encodings) VALUES (?, ?)\n",
      "2019-03-01 21:04:34,742 INFO sqlalchemy.engine.base.Engine ('beyonce', <memory at 0x000000E133E42E88>)\n",
      "2019-03-01 21:04:34,753 INFO sqlalchemy.engine.base.Engine COMMIT\n",
      "2019-03-01 21:04:35,216 INFO sqlalchemy.engine.base.Engine BEGIN (implicit)\n",
      "2019-03-01 21:04:35,223 INFO sqlalchemy.engine.base.Engine INSERT INTO celeb_recognition_encodings (name, encodings) VALUES (?, ?)\n",
      "2019-03-01 21:04:35,228 INFO sqlalchemy.engine.base.Engine ('beyonce', <memory at 0x000000E133E42E88>)\n",
      "2019-03-01 21:04:35,239 INFO sqlalchemy.engine.base.Engine COMMIT\n"
     ]
    },
    {
     "name": "stderr",
     "output_type": "stream",
     "text": [
      "face not found in image: H:\\Downloads\\reddit_comments_data\\celebs\\beyonce_6.jpg\n"
     ]
    },
    {
     "name": "stdout",
     "output_type": "stream",
     "text": [
      "2019-03-01 21:04:38,702 INFO sqlalchemy.engine.base.Engine BEGIN (implicit)\n",
      "2019-03-01 21:04:38,717 INFO sqlalchemy.engine.base.Engine INSERT INTO celeb_recognition_encodings (name, encodings) VALUES (?, ?)\n",
      "2019-03-01 21:04:38,737 INFO sqlalchemy.engine.base.Engine ('beyonce', <memory at 0x000000E133E42E88>)\n",
      "2019-03-01 21:04:38,749 INFO sqlalchemy.engine.base.Engine COMMIT\n",
      "2019-03-01 21:04:40,279 INFO sqlalchemy.engine.base.Engine BEGIN (implicit)\n",
      "2019-03-01 21:04:40,295 INFO sqlalchemy.engine.base.Engine INSERT INTO celeb_recognition_encodings (name, encodings) VALUES (?, ?)\n",
      "2019-03-01 21:04:40,306 INFO sqlalchemy.engine.base.Engine ('beyonce', <memory at 0x000000E133E42E88>)\n",
      "2019-03-01 21:04:40,317 INFO sqlalchemy.engine.base.Engine COMMIT\n",
      "2019-03-01 21:04:41,613 INFO sqlalchemy.engine.base.Engine BEGIN (implicit)\n",
      "2019-03-01 21:04:41,623 INFO sqlalchemy.engine.base.Engine INSERT INTO celeb_recognition_encodings (name, encodings) VALUES (?, ?)\n",
      "2019-03-01 21:04:41,632 INFO sqlalchemy.engine.base.Engine ('beyonce', <memory at 0x000000E133E42E88>)\n",
      "2019-03-01 21:04:41,644 INFO sqlalchemy.engine.base.Engine COMMIT\n",
      "2019-03-01 21:04:42,073 INFO sqlalchemy.engine.base.Engine BEGIN (implicit)\n",
      "2019-03-01 21:04:42,082 INFO sqlalchemy.engine.base.Engine INSERT INTO celeb_recognition_encodings (name, encodings) VALUES (?, ?)\n",
      "2019-03-01 21:04:42,093 INFO sqlalchemy.engine.base.Engine ('donald trump', <memory at 0x000000E133E42E88>)\n",
      "2019-03-01 21:04:42,105 INFO sqlalchemy.engine.base.Engine COMMIT\n"
     ]
    },
    {
     "name": "stderr",
     "output_type": "stream",
     "text": [
      "face not found in image: H:\\Downloads\\reddit_comments_data\\celebs\\donald_trump_10.jpg\n",
      "face not found in image: H:\\Downloads\\reddit_comments_data\\celebs\\donald_trump_11.jpg\n",
      "face not found in image: H:\\Downloads\\reddit_comments_data\\celebs\\donald_trump_2.jpg\n"
     ]
    },
    {
     "name": "stdout",
     "output_type": "stream",
     "text": [
      "2019-03-01 21:04:47,710 INFO sqlalchemy.engine.base.Engine BEGIN (implicit)\n",
      "2019-03-01 21:04:47,710 INFO sqlalchemy.engine.base.Engine INSERT INTO celeb_recognition_encodings (name, encodings) VALUES (?, ?)\n",
      "2019-03-01 21:04:47,732 INFO sqlalchemy.engine.base.Engine ('donald trump', <memory at 0x000000E133E42E88>)\n",
      "2019-03-01 21:04:47,743 INFO sqlalchemy.engine.base.Engine COMMIT\n",
      "2019-03-01 21:04:50,081 INFO sqlalchemy.engine.base.Engine BEGIN (implicit)\n",
      "2019-03-01 21:04:50,096 INFO sqlalchemy.engine.base.Engine INSERT INTO celeb_recognition_encodings (name, encodings) VALUES (?, ?)\n",
      "2019-03-01 21:04:50,104 INFO sqlalchemy.engine.base.Engine ('donald trump', <memory at 0x000000E133E42E88>)\n",
      "2019-03-01 21:04:50,116 INFO sqlalchemy.engine.base.Engine COMMIT\n",
      "2019-03-01 21:04:54,911 INFO sqlalchemy.engine.base.Engine BEGIN (implicit)\n",
      "2019-03-01 21:04:54,911 INFO sqlalchemy.engine.base.Engine INSERT INTO celeb_recognition_encodings (name, encodings) VALUES (?, ?)\n",
      "2019-03-01 21:04:54,926 INFO sqlalchemy.engine.base.Engine ('donald trump', <memory at 0x000000E133E42E88>)\n",
      "2019-03-01 21:04:54,937 INFO sqlalchemy.engine.base.Engine COMMIT\n",
      "2019-03-01 21:04:55,394 INFO sqlalchemy.engine.base.Engine BEGIN (implicit)\n",
      "2019-03-01 21:04:55,410 INFO sqlalchemy.engine.base.Engine INSERT INTO celeb_recognition_encodings (name, encodings) VALUES (?, ?)\n",
      "2019-03-01 21:04:55,422 INFO sqlalchemy.engine.base.Engine ('donald trump', <memory at 0x000000E133E42E88>)\n",
      "2019-03-01 21:04:55,434 INFO sqlalchemy.engine.base.Engine COMMIT\n",
      "2019-03-01 21:04:56,118 INFO sqlalchemy.engine.base.Engine BEGIN (implicit)\n",
      "2019-03-01 21:04:56,126 INFO sqlalchemy.engine.base.Engine INSERT INTO celeb_recognition_encodings (name, encodings) VALUES (?, ?)\n",
      "2019-03-01 21:04:56,133 INFO sqlalchemy.engine.base.Engine ('donald trump', <memory at 0x000000E133E42E88>)\n",
      "2019-03-01 21:04:56,143 INFO sqlalchemy.engine.base.Engine COMMIT\n",
      "2019-03-01 21:04:56,647 INFO sqlalchemy.engine.base.Engine BEGIN (implicit)\n",
      "2019-03-01 21:04:56,654 INFO sqlalchemy.engine.base.Engine INSERT INTO celeb_recognition_encodings (name, encodings) VALUES (?, ?)\n",
      "2019-03-01 21:04:56,660 INFO sqlalchemy.engine.base.Engine ('donald trump', <memory at 0x000000E133E42E88>)\n",
      "2019-03-01 21:04:56,672 INFO sqlalchemy.engine.base.Engine COMMIT\n"
     ]
    },
    {
     "name": "stderr",
     "output_type": "stream",
     "text": [
      "face not found in image: H:\\Downloads\\reddit_comments_data\\celebs\\donald_trump_9.jpg\n"
     ]
    },
    {
     "name": "stdout",
     "output_type": "stream",
     "text": [
      "2019-03-01 21:04:57,998 INFO sqlalchemy.engine.base.Engine BEGIN (implicit)\n",
      "2019-03-01 21:04:58,004 INFO sqlalchemy.engine.base.Engine INSERT INTO celeb_recognition_encodings (name, encodings) VALUES (?, ?)\n",
      "2019-03-01 21:04:58,010 INFO sqlalchemy.engine.base.Engine ('justin bieber', <memory at 0x000000E133E42E88>)\n",
      "2019-03-01 21:04:58,021 INFO sqlalchemy.engine.base.Engine COMMIT\n",
      "2019-03-01 21:04:59,140 INFO sqlalchemy.engine.base.Engine BEGIN (implicit)\n",
      "2019-03-01 21:04:59,146 INFO sqlalchemy.engine.base.Engine INSERT INTO celeb_recognition_encodings (name, encodings) VALUES (?, ?)\n",
      "2019-03-01 21:04:59,152 INFO sqlalchemy.engine.base.Engine ('justin bieber', <memory at 0x000000E133E42E88>)\n",
      "2019-03-01 21:04:59,163 INFO sqlalchemy.engine.base.Engine COMMIT\n",
      "2019-03-01 21:04:59,948 INFO sqlalchemy.engine.base.Engine BEGIN (implicit)\n",
      "2019-03-01 21:04:59,955 INFO sqlalchemy.engine.base.Engine INSERT INTO celeb_recognition_encodings (name, encodings) VALUES (?, ?)\n",
      "2019-03-01 21:04:59,962 INFO sqlalchemy.engine.base.Engine ('justin bieber', <memory at 0x000000E133E42E88>)\n",
      "2019-03-01 21:04:59,975 INFO sqlalchemy.engine.base.Engine COMMIT\n",
      "2019-03-01 21:05:00,728 INFO sqlalchemy.engine.base.Engine BEGIN (implicit)\n",
      "2019-03-01 21:05:00,749 INFO sqlalchemy.engine.base.Engine INSERT INTO celeb_recognition_encodings (name, encodings) VALUES (?, ?)\n",
      "2019-03-01 21:05:00,756 INFO sqlalchemy.engine.base.Engine ('justin bieber', <memory at 0x000000E133E42E88>)\n",
      "2019-03-01 21:05:00,768 INFO sqlalchemy.engine.base.Engine COMMIT\n",
      "2019-03-01 21:05:03,567 INFO sqlalchemy.engine.base.Engine BEGIN (implicit)\n",
      "2019-03-01 21:05:03,582 INFO sqlalchemy.engine.base.Engine INSERT INTO celeb_recognition_encodings (name, encodings) VALUES (?, ?)\n",
      "2019-03-01 21:05:03,592 INFO sqlalchemy.engine.base.Engine ('justin bieber', <memory at 0x000000E133E42E88>)\n",
      "2019-03-01 21:05:03,603 INFO sqlalchemy.engine.base.Engine COMMIT\n",
      "2019-03-01 21:05:04,138 INFO sqlalchemy.engine.base.Engine BEGIN (implicit)\n",
      "2019-03-01 21:05:04,154 INFO sqlalchemy.engine.base.Engine INSERT INTO celeb_recognition_encodings (name, encodings) VALUES (?, ?)\n",
      "2019-03-01 21:05:04,163 INFO sqlalchemy.engine.base.Engine ('justin bieber', <memory at 0x000000E133E42E88>)\n",
      "2019-03-01 21:05:04,173 INFO sqlalchemy.engine.base.Engine COMMIT\n"
     ]
    },
    {
     "name": "stderr",
     "output_type": "stream",
     "text": [
      "face not found in image: H:\\Downloads\\reddit_comments_data\\celebs\\justin_bieber_6.jpg\n"
     ]
    },
    {
     "name": "stdout",
     "output_type": "stream",
     "text": [
      "2019-03-01 21:05:09,776 INFO sqlalchemy.engine.base.Engine BEGIN (implicit)\n",
      "2019-03-01 21:05:09,787 INFO sqlalchemy.engine.base.Engine INSERT INTO celeb_recognition_encodings (name, encodings) VALUES (?, ?)\n",
      "2019-03-01 21:05:09,796 INFO sqlalchemy.engine.base.Engine ('justin bieber', <memory at 0x000000E133E42E88>)\n",
      "2019-03-01 21:05:09,815 INFO sqlalchemy.engine.base.Engine COMMIT\n",
      "2019-03-01 21:05:12,704 INFO sqlalchemy.engine.base.Engine BEGIN (implicit)\n",
      "2019-03-01 21:05:12,713 INFO sqlalchemy.engine.base.Engine INSERT INTO celeb_recognition_encodings (name, encodings) VALUES (?, ?)\n",
      "2019-03-01 21:05:12,720 INFO sqlalchemy.engine.base.Engine ('justin bieber', <memory at 0x000000E133E42E88>)\n",
      "2019-03-01 21:05:12,731 INFO sqlalchemy.engine.base.Engine COMMIT\n",
      "2019-03-01 21:05:16,700 INFO sqlalchemy.engine.base.Engine BEGIN (implicit)\n",
      "2019-03-01 21:05:16,708 INFO sqlalchemy.engine.base.Engine INSERT INTO celeb_recognition_encodings (name, encodings) VALUES (?, ?)\n",
      "2019-03-01 21:05:16,715 INFO sqlalchemy.engine.base.Engine ('justin bieber', <memory at 0x000000E133E42E88>)\n",
      "2019-03-01 21:05:16,726 INFO sqlalchemy.engine.base.Engine COMMIT\n",
      "2019-03-01 21:05:17,428 INFO sqlalchemy.engine.base.Engine BEGIN (implicit)\n",
      "2019-03-01 21:05:17,441 INFO sqlalchemy.engine.base.Engine INSERT INTO celeb_recognition_encodings (name, encodings) VALUES (?, ?)\n",
      "2019-03-01 21:05:17,453 INFO sqlalchemy.engine.base.Engine ('leo messi', <memory at 0x000000E133E42E88>)\n",
      "2019-03-01 21:05:17,470 INFO sqlalchemy.engine.base.Engine COMMIT\n",
      "2019-03-01 21:05:18,164 INFO sqlalchemy.engine.base.Engine BEGIN (implicit)\n",
      "2019-03-01 21:05:18,173 INFO sqlalchemy.engine.base.Engine INSERT INTO celeb_recognition_encodings (name, encodings) VALUES (?, ?)\n",
      "2019-03-01 21:05:18,185 INFO sqlalchemy.engine.base.Engine ('leo messi', <memory at 0x000000E133E42E88>)\n",
      "2019-03-01 21:05:18,198 INFO sqlalchemy.engine.base.Engine COMMIT\n",
      "2019-03-01 21:05:18,879 INFO sqlalchemy.engine.base.Engine BEGIN (implicit)\n",
      "2019-03-01 21:05:18,892 INFO sqlalchemy.engine.base.Engine INSERT INTO celeb_recognition_encodings (name, encodings) VALUES (?, ?)\n",
      "2019-03-01 21:05:18,901 INFO sqlalchemy.engine.base.Engine ('leo messi', <memory at 0x000000E133E42E88>)\n",
      "2019-03-01 21:05:18,914 INFO sqlalchemy.engine.base.Engine COMMIT\n",
      "2019-03-01 21:05:19,600 INFO sqlalchemy.engine.base.Engine BEGIN (implicit)\n",
      "2019-03-01 21:05:19,609 INFO sqlalchemy.engine.base.Engine INSERT INTO celeb_recognition_encodings (name, encodings) VALUES (?, ?)\n",
      "2019-03-01 21:05:19,620 INFO sqlalchemy.engine.base.Engine ('leo messi', <memory at 0x000000E133E42E88>)\n",
      "2019-03-01 21:05:19,634 INFO sqlalchemy.engine.base.Engine COMMIT\n",
      "2019-03-01 21:05:20,021 INFO sqlalchemy.engine.base.Engine BEGIN (implicit)\n",
      "2019-03-01 21:05:20,021 INFO sqlalchemy.engine.base.Engine INSERT INTO celeb_recognition_encodings (name, encodings) VALUES (?, ?)\n",
      "2019-03-01 21:05:20,041 INFO sqlalchemy.engine.base.Engine ('leo messi', <memory at 0x000000E133E42E88>)\n",
      "2019-03-01 21:05:20,053 INFO sqlalchemy.engine.base.Engine COMMIT\n",
      "2019-03-01 21:05:20,560 INFO sqlalchemy.engine.base.Engine BEGIN (implicit)\n",
      "2019-03-01 21:05:20,560 INFO sqlalchemy.engine.base.Engine INSERT INTO celeb_recognition_encodings (name, encodings) VALUES (?, ?)\n",
      "2019-03-01 21:05:20,578 INFO sqlalchemy.engine.base.Engine ('leo messi', <memory at 0x000000E133E42E88>)\n",
      "2019-03-01 21:05:20,589 INFO sqlalchemy.engine.base.Engine COMMIT\n",
      "2019-03-01 21:05:21,024 INFO sqlalchemy.engine.base.Engine BEGIN (implicit)\n",
      "2019-03-01 21:05:21,032 INFO sqlalchemy.engine.base.Engine INSERT INTO celeb_recognition_encodings (name, encodings) VALUES (?, ?)\n",
      "2019-03-01 21:05:21,038 INFO sqlalchemy.engine.base.Engine ('leo messi', <memory at 0x000000E133E42E88>)\n",
      "2019-03-01 21:05:21,050 INFO sqlalchemy.engine.base.Engine COMMIT\n",
      "2019-03-01 21:05:21,718 INFO sqlalchemy.engine.base.Engine BEGIN (implicit)\n",
      "2019-03-01 21:05:21,733 INFO sqlalchemy.engine.base.Engine INSERT INTO celeb_recognition_encodings (name, encodings) VALUES (?, ?)\n",
      "2019-03-01 21:05:21,744 INFO sqlalchemy.engine.base.Engine ('leo messi', <memory at 0x000000E133E42E88>)\n",
      "2019-03-01 21:05:21,756 INFO sqlalchemy.engine.base.Engine COMMIT\n",
      "2019-03-01 21:05:22,187 INFO sqlalchemy.engine.base.Engine BEGIN (implicit)\n",
      "2019-03-01 21:05:22,187 INFO sqlalchemy.engine.base.Engine INSERT INTO celeb_recognition_encodings (name, encodings) VALUES (?, ?)\n",
      "2019-03-01 21:05:22,200 INFO sqlalchemy.engine.base.Engine ('leo messi', <memory at 0x000000E133E42E88>)\n",
      "2019-03-01 21:05:22,210 INFO sqlalchemy.engine.base.Engine COMMIT\n",
      "2019-03-01 21:05:22,908 INFO sqlalchemy.engine.base.Engine BEGIN (implicit)\n",
      "2019-03-01 21:05:22,908 INFO sqlalchemy.engine.base.Engine INSERT INTO celeb_recognition_encodings (name, encodings) VALUES (?, ?)\n",
      "2019-03-01 21:05:22,927 INFO sqlalchemy.engine.base.Engine ('leo messi', <memory at 0x000000E133E42E88>)\n",
      "2019-03-01 21:05:22,937 INFO sqlalchemy.engine.base.Engine COMMIT\n",
      "2019-03-01 21:05:23,262 INFO sqlalchemy.engine.base.Engine BEGIN (implicit)\n",
      "2019-03-01 21:05:23,262 INFO sqlalchemy.engine.base.Engine INSERT INTO celeb_recognition_encodings (name, encodings) VALUES (?, ?)\n",
      "2019-03-01 21:05:23,275 INFO sqlalchemy.engine.base.Engine ('robert downey jr', <memory at 0x000000E133E42E88>)\n",
      "2019-03-01 21:05:23,285 INFO sqlalchemy.engine.base.Engine COMMIT\n",
      "2019-03-01 21:05:24,293 INFO sqlalchemy.engine.base.Engine BEGIN (implicit)\n",
      "2019-03-01 21:05:24,300 INFO sqlalchemy.engine.base.Engine INSERT INTO celeb_recognition_encodings (name, encodings) VALUES (?, ?)\n",
      "2019-03-01 21:05:24,312 INFO sqlalchemy.engine.base.Engine ('robert downey jr', <memory at 0x000000E133E42E88>)\n",
      "2019-03-01 21:05:24,326 INFO sqlalchemy.engine.base.Engine COMMIT\n",
      "2019-03-01 21:05:25,472 INFO sqlalchemy.engine.base.Engine BEGIN (implicit)\n",
      "2019-03-01 21:05:25,502 INFO sqlalchemy.engine.base.Engine INSERT INTO celeb_recognition_encodings (name, encodings) VALUES (?, ?)\n",
      "2019-03-01 21:05:25,533 INFO sqlalchemy.engine.base.Engine ('robert downey jr', <memory at 0x000000E133E42E88>)\n",
      "2019-03-01 21:05:25,549 INFO sqlalchemy.engine.base.Engine COMMIT\n",
      "2019-03-01 21:05:26,464 INFO sqlalchemy.engine.base.Engine BEGIN (implicit)\n",
      "2019-03-01 21:05:26,473 INFO sqlalchemy.engine.base.Engine INSERT INTO celeb_recognition_encodings (name, encodings) VALUES (?, ?)\n",
      "2019-03-01 21:05:26,480 INFO sqlalchemy.engine.base.Engine ('robert downey jr', <memory at 0x000000E133E42E88>)\n",
      "2019-03-01 21:05:26,491 INFO sqlalchemy.engine.base.Engine COMMIT\n",
      "2019-03-01 21:05:27,160 INFO sqlalchemy.engine.base.Engine BEGIN (implicit)\n",
      "2019-03-01 21:05:27,160 INFO sqlalchemy.engine.base.Engine INSERT INTO celeb_recognition_encodings (name, encodings) VALUES (?, ?)\n",
      "2019-03-01 21:05:27,177 INFO sqlalchemy.engine.base.Engine ('robert downey jr', <memory at 0x000000E133E42E88>)\n",
      "2019-03-01 21:05:27,189 INFO sqlalchemy.engine.base.Engine COMMIT\n",
      "2019-03-01 21:05:27,549 INFO sqlalchemy.engine.base.Engine BEGIN (implicit)\n",
      "2019-03-01 21:05:27,549 INFO sqlalchemy.engine.base.Engine INSERT INTO celeb_recognition_encodings (name, encodings) VALUES (?, ?)\n",
      "2019-03-01 21:05:27,561 INFO sqlalchemy.engine.base.Engine ('robert downey jr', <memory at 0x000000E133E42E88>)\n",
      "2019-03-01 21:05:27,571 INFO sqlalchemy.engine.base.Engine COMMIT\n"
     ]
    },
    {
     "name": "stderr",
     "output_type": "stream",
     "text": [
      "face not found in image: H:\\Downloads\\reddit_comments_data\\celebs\\robert_downey_jr_6.jpg\n"
     ]
    },
    {
     "name": "stdout",
     "output_type": "stream",
     "text": [
      "2019-03-01 21:05:28,015 INFO sqlalchemy.engine.base.Engine BEGIN (implicit)\n",
      "2019-03-01 21:05:28,015 INFO sqlalchemy.engine.base.Engine INSERT INTO celeb_recognition_encodings (name, encodings) VALUES (?, ?)\n",
      "2019-03-01 21:05:28,036 INFO sqlalchemy.engine.base.Engine ('robert downey jr', <memory at 0x000000E133E42E88>)\n",
      "2019-03-01 21:05:28,050 INFO sqlalchemy.engine.base.Engine COMMIT\n"
     ]
    },
    {
     "name": "stderr",
     "output_type": "stream",
     "text": [
      "face not found in image: H:\\Downloads\\reddit_comments_data\\celebs\\robert_downey_jr_8.jpg\n",
      "face not found in image: H:\\Downloads\\reddit_comments_data\\celebs\\robert_downey_jr_9.jpg\n"
     ]
    },
    {
     "name": "stdout",
     "output_type": "stream",
     "text": [
      "2019-03-01 21:05:30,518 INFO sqlalchemy.engine.base.Engine BEGIN (implicit)\n",
      "2019-03-01 21:05:30,518 INFO sqlalchemy.engine.base.Engine INSERT INTO celeb_recognition_encodings (name, encodings) VALUES (?, ?)\n",
      "2019-03-01 21:05:30,534 INFO sqlalchemy.engine.base.Engine ('shahrukh khan', <memory at 0x000000E133E42E88>)\n",
      "2019-03-01 21:05:30,551 INFO sqlalchemy.engine.base.Engine COMMIT\n",
      "2019-03-01 21:05:31,255 INFO sqlalchemy.engine.base.Engine BEGIN (implicit)\n",
      "2019-03-01 21:05:31,255 INFO sqlalchemy.engine.base.Engine INSERT INTO celeb_recognition_encodings (name, encodings) VALUES (?, ?)\n",
      "2019-03-01 21:05:31,271 INFO sqlalchemy.engine.base.Engine ('shahrukh khan', <memory at 0x000000E133E42E88>)\n",
      "2019-03-01 21:05:31,283 INFO sqlalchemy.engine.base.Engine COMMIT\n",
      "2019-03-01 21:05:31,793 INFO sqlalchemy.engine.base.Engine BEGIN (implicit)\n",
      "2019-03-01 21:05:31,809 INFO sqlalchemy.engine.base.Engine INSERT INTO celeb_recognition_encodings (name, encodings) VALUES (?, ?)\n",
      "2019-03-01 21:05:31,816 INFO sqlalchemy.engine.base.Engine ('shahrukh khan', <memory at 0x000000E133E42E88>)\n",
      "2019-03-01 21:05:31,828 INFO sqlalchemy.engine.base.Engine COMMIT\n",
      "2019-03-01 21:05:32,411 INFO sqlalchemy.engine.base.Engine BEGIN (implicit)\n",
      "2019-03-01 21:05:32,427 INFO sqlalchemy.engine.base.Engine INSERT INTO celeb_recognition_encodings (name, encodings) VALUES (?, ?)\n",
      "2019-03-01 21:05:32,445 INFO sqlalchemy.engine.base.Engine ('shahrukh khan', <memory at 0x000000E133E42E88>)\n",
      "2019-03-01 21:05:32,458 INFO sqlalchemy.engine.base.Engine COMMIT\n",
      "2019-03-01 21:05:33,042 INFO sqlalchemy.engine.base.Engine BEGIN (implicit)\n",
      "2019-03-01 21:05:33,057 INFO sqlalchemy.engine.base.Engine INSERT INTO celeb_recognition_encodings (name, encodings) VALUES (?, ?)\n",
      "2019-03-01 21:05:33,065 INFO sqlalchemy.engine.base.Engine ('shahrukh khan', <memory at 0x000000E133E42E88>)\n",
      "2019-03-01 21:05:33,077 INFO sqlalchemy.engine.base.Engine COMMIT\n",
      "2019-03-01 21:05:34,534 INFO sqlalchemy.engine.base.Engine BEGIN (implicit)\n",
      "2019-03-01 21:05:34,543 INFO sqlalchemy.engine.base.Engine INSERT INTO celeb_recognition_encodings (name, encodings) VALUES (?, ?)\n",
      "2019-03-01 21:05:34,550 INFO sqlalchemy.engine.base.Engine ('shahrukh khan', <memory at 0x000000E133E42E88>)\n",
      "2019-03-01 21:05:34,563 INFO sqlalchemy.engine.base.Engine COMMIT\n",
      "2019-03-01 21:05:35,075 INFO sqlalchemy.engine.base.Engine BEGIN (implicit)\n",
      "2019-03-01 21:05:35,091 INFO sqlalchemy.engine.base.Engine INSERT INTO celeb_recognition_encodings (name, encodings) VALUES (?, ?)\n",
      "2019-03-01 21:05:35,102 INFO sqlalchemy.engine.base.Engine ('shahrukh khan', <memory at 0x000000E133E42E88>)\n",
      "2019-03-01 21:05:35,115 INFO sqlalchemy.engine.base.Engine COMMIT\n",
      "2019-03-01 21:05:37,886 INFO sqlalchemy.engine.base.Engine BEGIN (implicit)\n",
      "2019-03-01 21:05:37,894 INFO sqlalchemy.engine.base.Engine INSERT INTO celeb_recognition_encodings (name, encodings) VALUES (?, ?)\n",
      "2019-03-01 21:05:37,901 INFO sqlalchemy.engine.base.Engine ('shahrukh khan', <memory at 0x000000E133E42E88>)\n",
      "2019-03-01 21:05:37,911 INFO sqlalchemy.engine.base.Engine COMMIT\n",
      "2019-03-01 21:05:38,738 INFO sqlalchemy.engine.base.Engine BEGIN (implicit)\n",
      "2019-03-01 21:05:38,754 INFO sqlalchemy.engine.base.Engine INSERT INTO celeb_recognition_encodings (name, encodings) VALUES (?, ?)\n",
      "2019-03-01 21:05:38,762 INFO sqlalchemy.engine.base.Engine ('shahrukh khan', <memory at 0x000000E133E42E88>)\n",
      "2019-03-01 21:05:38,771 INFO sqlalchemy.engine.base.Engine COMMIT\n"
     ]
    }
   ],
   "source": [
    "# for image_path in glob.glob('H:\\\\Downloads\\\\reddit_comments_data\\\\shahrukh\\\\*.jpg'):\n",
    "\n",
    "path = 'H:\\\\Downloads\\\\reddit_comments_data\\\\celebs'\n",
    "\n",
    "for filename in os.listdir(path):\n",
    "    celeb_name = get_celeb_name_from(filename)\n",
    "    file_path = os.path.join(path, filename)\n",
    "    CelebModelOperations.add_new_celeb(file_path, celeb_name, celeb_model.fr_model)"
   ]
  },
  {
   "cell_type": "code",
   "execution_count": 15,
   "metadata": {},
   "outputs": [
    {
     "name": "stdout",
     "output_type": "stream",
     "text": [
      "2019-03-02 00:31:46,889 INFO sqlalchemy.engine.base.Engine BEGIN (implicit)\n",
      "2019-03-02 00:31:47,058 INFO sqlalchemy.engine.base.Engine SELECT count(*) AS count_1 \n",
      "FROM (SELECT celeb_recognition_encodings.celeb_id AS celeb_recognition_encodings_celeb_id, celeb_recognition_encodings.name AS celeb_recognition_encodings_name, celeb_recognition_encodings.encodings AS celeb_recognition_encodings_encodings \n",
      "FROM celeb_recognition_encodings) AS anon_1\n",
      "2019-03-02 00:31:47,118 INFO sqlalchemy.engine.base.Engine ()\n",
      "2019-03-02 00:32:08,268 INFO sqlalchemy.engine.base.Engine SELECT celeb_recognition_encodings.celeb_id AS celeb_recognition_encodings_celeb_id, celeb_recognition_encodings.name AS celeb_recognition_encodings_name, celeb_recognition_encodings.encodings AS celeb_recognition_encodings_encodings \n",
      "FROM celeb_recognition_encodings\n",
      "2019-03-02 00:32:08,326 INFO sqlalchemy.engine.base.Engine ()\n",
      "it's shahrukh khan, the distance is 0.5995406\n"
     ]
    }
   ],
   "source": [
    "celeb_identity = CelebModelOperations.recognize_celebs('H:\\\\Downloads\\\\reddit_comments_data\\\\shahrukh_khan.jpg', celeb_model.fr_model)"
   ]
  },
  {
   "cell_type": "code",
   "execution_count": 16,
   "metadata": {},
   "outputs": [
    {
     "data": {
      "text/plain": [
       "'shahrukh khan'"
      ]
     },
     "execution_count": 16,
     "metadata": {},
     "output_type": "execute_result"
    }
   ],
   "source": [
    "celeb_identity"
   ]
  },
  {
   "cell_type": "markdown",
   "metadata": {},
   "source": [
    "# Improvements:\n",
    "- Transfer learning on celeb dataset with \"Siamese network\"\n",
    "- Accuracy analysis with grayscale facial image captures.\n",
    "- Better face detection"
   ]
  },
  {
   "cell_type": "markdown",
   "metadata": {},
   "source": [
    "## Todos:\n",
    "- Extend to multiple faces in an image frame.\n",
    "- Video processing (recognize celebs in video scenes).\n",
    "- Top n matching celebs."
   ]
  },
  {
   "cell_type": "code",
   "execution_count": null,
   "metadata": {},
   "outputs": [],
   "source": []
  }
 ],
 "metadata": {
  "kernelspec": {
   "display_name": "Python 3",
   "language": "python",
   "name": "python3"
  },
  "language_info": {
   "codemirror_mode": {
    "name": "ipython",
    "version": 3
   },
   "file_extension": ".py",
   "mimetype": "text/x-python",
   "name": "python",
   "nbconvert_exporter": "python",
   "pygments_lexer": "ipython3",
   "version": "3.6.3"
  }
 },
 "nbformat": 4,
 "nbformat_minor": 2
}
